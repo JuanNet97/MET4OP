{
 "cells": [
  {
   "cell_type": "markdown",
   "metadata": {},
   "source": [
    "# Introducción a (Monty) Python"
   ]
  },
  {
   "cell_type": "markdown",
   "metadata": {},
   "source": [
    "<img src=https://s1.mzstatic.com/us/r30/Purple/v4/f3/91/9d/f3919d69-71fe-dc74-bf91-c2e31853f228/mzl.whglchek.png width=\"300\">"
   ]
  },
  {
   "source": [
    "## Variables en Python\n",
    "\n",
    "En la siguiente línea de código, asignamos el valor 42 a una variable:"
   ],
   "cell_type": "markdown",
   "metadata": {}
  },
  {
   "cell_type": "code",
   "execution_count": 1,
   "metadata": {},
   "outputs": [],
   "source": [
    "i  =  42"
   ]
  },
  {
   "source": [
    "El signo igual \"=\" en la asignación no debe verse como \"es igual a\". Debe interpretarse como \"se establece en\", es decir, en nuestro ejemplo \"la variable i se establece en 42\". Ahora aumentaremos el valor de esta variable en 1:"
   ],
   "cell_type": "markdown",
   "metadata": {}
  },
  {
   "cell_type": "code",
   "execution_count": 2,
   "metadata": {
    "tags": []
   },
   "outputs": [
    {
     "output_type": "stream",
     "name": "stdout",
     "text": "43\n"
    }
   ],
   "source": [
    "\n",
    "i  =  i  +  1 \n",
    "print( i )\n"
   ]
  },
  {
   "source": [
    "El tipo de variable puede cambiar durante la ejecución de un script. O, para ser precisos se le asignará un nuevo objeto, que puede ser de cualquier tipo. Ilustramos esto en nuestro siguiente ejemplo:"
   ],
   "cell_type": "markdown",
   "metadata": {}
  },
  {
   "cell_type": "code",
   "execution_count": 3,
   "metadata": {},
   "outputs": [],
   "source": [
    "i = 42 # el tipo de datos se establece implícitamente en un entero\n",
    "i = 42 + 0.11 # el tipo de datos se cambia a flotante\n",
    "i = \"42\" # y ahora será una cadena "
   ]
  },
  {
   "source": [
    "En otras palabras, Python se encarga automáticamente de la representación física de los diferentes tipos de datos."
   ],
   "cell_type": "markdown",
   "metadata": {}
  },
  {
   "source": [
    "## Referencias de objetos\n",
    "\n",
    "Las variables de Python son referencias a objetos, pero los datos reales están contenidos en los objetos:\n",
    "\n",
    "<img src=https://www.python-course.eu/images/python_variable_1.png width=\"300\">\n",
    "\n",
    "\n",
    "Dado que las variables apuntan a objetos y los objetos pueden ser de tipos de datos arbitrarios, las variables no pueden tener tipos asociados. Esta es una gran diferencia con otros lengaujes (C, C ++ o Java), donde una variable está asociada con un tipo de datos fijo. En estos lenguajes, esta asociación no se puede cambiar mientras el programa se esté ejecutando.\n",
    "\n",
    "En Python, es posible escribir código como el siguiente:"
   ],
   "cell_type": "markdown",
   "metadata": {}
  },
  {
   "cell_type": "code",
   "execution_count": 4,
   "metadata": {
    "tags": []
   },
   "outputs": [
    {
     "output_type": "stream",
     "name": "stdout",
     "text": "42\n"
    }
   ],
   "source": [
    "x  =  42 \n",
    "print( x )"
   ]
  },
  {
   "cell_type": "code",
   "execution_count": 5,
   "metadata": {
    "tags": []
   },
   "outputs": [
    {
     "output_type": "stream",
     "name": "stdout",
     "text": "Ahora x hace referencia a una cadena\n"
    }
   ],
   "source": [
    "x  =  \"Ahora x hace referencia a una cadena\" \n",
    "print( x )"
   ]
  },
  {
   "source": [
    "Veamos el siguiente código:"
   ],
   "cell_type": "markdown",
   "metadata": {}
  },
  {
   "cell_type": "code",
   "execution_count": 6,
   "metadata": {},
   "outputs": [],
   "source": [
    "\n",
    "x  =  42 \n",
    "y  =  x"
   ]
  },
  {
   "source": [
    "Creamos un objeto 42 entero y lo asignamos a la variable x. Después de esto asignamos x a la variable y. Esto significa que ambas variables hacen referencia al mismo objeto. La siguiente imagen ilustra esto:\n",
    "\n",
    "<img src=https://www.python-course.eu/images/python_variable_2.png width=\"300\">"
   ],
   "cell_type": "markdown",
   "metadata": {}
  },
  {
   "source": [
    "Veamos el siguiente código:\n"
   ],
   "cell_type": "markdown",
   "metadata": {}
  },
  {
   "source": [
    "x = 42 \n",
    "y = x\n",
    "y = 78"
   ],
   "cell_type": "code",
   "metadata": {},
   "execution_count": 7,
   "outputs": []
  },
  {
   "source": [
    "Python creará un nuevo objeto entero con el contenido 78 y luego la variable y hará referencia a este objeto recién creado, como podemos ver en la siguiente imagen:\n",
    "\n",
    "<img src=https://www.python-course.eu/images/python_variable_3.png width=\"300\">"
   ],
   "cell_type": "markdown",
   "metadata": {}
  },
  {
   "source": [
    "Veamos el siguiente código:\n"
   ],
   "cell_type": "markdown",
   "metadata": {}
  },
  {
   "cell_type": "code",
   "execution_count": 8,
   "metadata": {},
   "outputs": [],
   "source": [
    "x = 42 \n",
    "y = x\n",
    "y = 78\n",
    "x = \"Text\"\n"
   ]
  },
  {
   "source": [
    "<img src=https://www.python-course.eu/images/python_variable_4.png width=\"300\">"
   ],
   "cell_type": "markdown",
   "metadata": {}
  },
  {
   "source": [
    "¿cómo podemos ver o probar que xey realmente hacen referencia al mismo objeto después de la asignación y = x de nuestro ejemplo anterior?\n",
    "\n",
    "La función de identidad id () se puede utilizar para este propósito. Cada instancia (objeto o variable) tiene una identidad, es decir, un número entero que es único dentro del script o programa, es decir, otros objetos tienen identidades diferentes."
   ],
   "cell_type": "markdown",
   "metadata": {}
  },
  {
   "cell_type": "code",
   "execution_count": 9,
   "metadata": {},
   "outputs": [
    {
     "output_type": "execute_result",
     "data": {
      "text/plain": "[10915808, 10915808]"
     },
     "metadata": {},
     "execution_count": 9
    }
   ],
   "source": [
    "x = 42\n",
    "y = x\n",
    "[id(x),id(y)]"
   ]
  },
  {
   "cell_type": "code",
   "execution_count": 10,
   "metadata": {},
   "outputs": [
    {
     "output_type": "execute_result",
     "data": {
      "text/plain": "[10915808, 10916960]"
     },
     "metadata": {},
     "execution_count": 10
    }
   ],
   "source": [
    "y = 78\n",
    "[id(x),id(y)]"
   ]
  },
  {
   "cell_type": "code",
   "execution_count": 11,
   "metadata": {},
   "outputs": [
    {
     "output_type": "execute_result",
     "data": {
      "text/plain": "[140072010802264, 10916960]"
     },
     "metadata": {},
     "execution_count": 11
    }
   ],
   "source": [
    "x = \"Text\"\n",
    "[id(x),id(y)]"
   ]
  },
  {
   "source": [
    "## Tipos de Variables\n",
    "\n",
    "En programación, el tipo de datos es un concepto importante.\n",
    "\n",
    "Las variables pueden almacenar datos de diferentes tipos y los diferentes tipos pueden hacer cosas diferentes.\n",
    "\n",
    "Python tiene los siguientes tipos de datos integrados de forma predeterminada, en estas categorías:\n",
    "* Tipo de texto: \tstr\n",
    "* Tipos numéricos: \tint, float, complex\n",
    "* Tipos de secuencia: \tlist, tuple, range\n",
    "* Tipo de mapeo: \tdict\n",
    "* Tipos de conjuntos: \tset, frozenset\n",
    "* Tipo booleano: \tbool\n",
    "* Tipos binarios: \tbytes, bytearray, memoryview\n",
    "\n",
    "#### Obtener el tipo de datos\n",
    "\n",
    "Puede obtenerse el tipo de datos de cualquier objeto utilizando la función type():"
   ],
   "cell_type": "markdown",
   "metadata": {}
  },
  {
   "cell_type": "code",
   "execution_count": 12,
   "metadata": {
    "tags": []
   },
   "outputs": [
    {
     "output_type": "stream",
     "name": "stdout",
     "text": "<class 'int'>\n"
    }
   ],
   "source": [
    "x = 5\n",
    "print(type(x))"
   ]
  },
  {
   "source": [
    "#### Definir variables de diferentes tipos\n",
    "\n",
    "En Python, el tipo de datos se establece cuando asigna un valor a una variable:\n",
    "\n",
    "|  Ejemplo |  Tipo de Dato |\n",
    "| ----- | ----- |\n",
    "|  x = \"Hello World\" |  str |\n",
    "|  x = 20 |  int |\n",
    "|  x = 20.5 |  float |\n",
    "|  x = 1j |  complex |\n",
    "|  x = [\"apple\", \"banana\", \"cherry\"] |  list |\n",
    "|  x = (\"apple\", \"banana\", \"cherry\") |  tuple |\n",
    "|  x = range(6) |  range |\n",
    "|  x = {\"name\" : \"John\", \"age\" : 36} |  dict |\n",
    "|  x = {\"apple\", \"banana\", \"cherry\"} |  set |\n",
    "|  x = frozenset({\"apple\", \"banana\", \"cherry\"}) |  frozenset |\n",
    "|  x = True |  bool |\n",
    "|  x = b\"Hello\" |  bytes |\n",
    "|  x = bytearray(5) |  bytearray |\n",
    "|  x = memoryview(bytes(5)) |  memoryview |\n",
    "\n"
   ],
   "cell_type": "markdown",
   "metadata": {}
  },
  {
   "source": [
    "Si se desea especificar el tipo de datos, se puede utilizar las siguientes funciones constructoras:\n",
    "\n",
    "|  Ejemplo |  Tipo de Dato |\n",
    "| ----- | ----- |  \n",
    "|  x = str(\"Hello World\") |  str |\n",
    "|  x = int(20) |  int |\n",
    "|  x = float(20.5) |  float |\n",
    "|  x = complex(1j) |  complex |\n",
    "|  x = list((\"apple\", \"banana\", \"cherry\")) |  list |\n",
    "|  x = tuple((\"apple\", \"banana\", \"cherry\")) |  tuple |\n",
    "|  x = range(6) |  range |\n",
    "|  x = dict(name=\"John\", age=36) |  dict |\n",
    "|  x = set((\"apple\", \"banana\", \"cherry\")) |  set |\n",
    "|  x = frozenset((\"apple\", \"banana\", \"cherry\")) |  frozenset |\n",
    "|  x = bool(5) |  bool |\n",
    "|  x = bytes(5) |  bytes |\n",
    "|  x = bytearray(5) |  bytearray |\n",
    "|  x = memoryview(bytes(5)) |  memoryview |"
   ],
   "cell_type": "markdown",
   "metadata": {}
  },
  {
   "cell_type": "markdown",
   "metadata": {},
   "source": [
    "### Números\n",
    "\n",
    "Python admite diferentes tipos numéricos:\n",
    "\n",
    "* int (enteros con signo) : a menudo se denominan solo enteros o ints . Son números enteros positivos o negativos sin punto decimal. Los enteros en Python 3 son de tamaño ilimitado. Python 2 tiene dos tipos de enteros: int y long. Ya no hay 'entero largo' en Python 3.\n",
    "\n",
    "* float (valores reales de coma flotante) : también llamados flotantes, representan números reales y se escriben con una coma decimal que divide el número entero y las partes fraccionarias. Los flotantes también pueden estar en notación científica, con E o e indicando la potencia de 10 (2.5e2 = 2.5 x 10 2 = 250).\n",
    "\n",
    "* complex (números complejos) : tienen la forma a + bJ, donde a y b son flotantes y J (o j) representa la raíz cuadrada de -1 (que es un número imaginario). La parte real del número es a y la parte imaginaria es b. \n",
    "\n"
   ]
  },
  {
   "cell_type": "code",
   "execution_count": 13,
   "metadata": {},
   "outputs": [],
   "source": [
    "significado = 42  # un número entero\n",
    "pi = 3.141592  # un número de coma flotante\n",
    "complejo = 2+4j  # un número complejo"
   ]
  },
  {
   "source": [
    "#### Conversión de tipo de número\n",
    "\n",
    "Python convierte los números internamente en una expresión que contiene tipos mixtos a un tipo común para su evaluación. A veces, es necesario forzar un número explícitamente de un tipo a otro para satisfacer los requisitos de un operador o parámetro de función.\n",
    "\n",
    "* int (x) para convertir x en un entero simple.\n",
    "\n",
    "* float (x) para convertir x en un número de punto flotante.\n",
    "\n",
    "* complex (x, y) para convertir x-y en un número complejo con la parte real x y la parte imaginaria y. xey son expresiones numéricas\n"
   ],
   "cell_type": "markdown",
   "metadata": {}
  },
  {
   "cell_type": "markdown",
   "metadata": {},
   "source": [
    "### Strings\n",
    "\n",
    "#### Definiendo cadenas (strings)\n",
    "\n",
    "Los literales de cadena en Python están rodeados por comillas simples o comillas dobles.\n",
    "\"hola\" es lo mismo que \"hola\" ."
   ]
  },
  {
   "cell_type": "code",
   "execution_count": 14,
   "metadata": {
    "tags": []
   },
   "outputs": [
    {
     "output_type": "stream",
     "name": "stdout",
     "text": "hola\nhola\n"
    }
   ],
   "source": [
    "print(\"hola\")\n",
    "print('hola')"
   ]
  },
  {
   "source": [
    "Puede asignar una cadena de varias líneas a una variable utilizando tres comillas:"
   ],
   "cell_type": "markdown",
   "metadata": {}
  },
  {
   "cell_type": "code",
   "execution_count": 15,
   "metadata": {
    "tags": []
   },
   "outputs": [
    {
     "output_type": "stream",
     "name": "stdout",
     "text": "Lorem ipsum dolor sit amet,\nconsectetur adipiscing elit,\nsed do eiusmod tempor incididunt\nut labore et dolore magna aliqua.\n"
    }
   ],
   "source": [
    "a = \"\"\"Lorem ipsum dolor sit amet,\n",
    "consectetur adipiscing elit,\n",
    "sed do eiusmod tempor incididunt\n",
    "ut labore et dolore magna aliqua.\"\"\"\n",
    "print(a) "
   ]
  },
  {
   "source": [
    "#### Las cadenas son arrays\n",
    "\n",
    "Como muchos otros lenguajes de programación populares, las cadenas en Python son matrices de bytes que representan caracteres Unicode. Sin embargo, Python no tiene un tipo de datos de carácter, un solo carácter es simplemente una cadena con una longitud de 1.\n",
    "\n",
    "Se pueden utilizar corchetes para acceder a elementos de la cadena."
   ],
   "cell_type": "markdown",
   "metadata": {}
  },
  {
   "cell_type": "code",
   "execution_count": 16,
   "metadata": {
    "tags": []
   },
   "outputs": [
    {
     "output_type": "stream",
     "name": "stdout",
     "text": "Romanes eunt\nR\nman\nmanes eunt\n"
    }
   ],
   "source": [
    "texto = 'Romanes eunt'\n",
    "\n",
    "print(texto)  # Imprime la string\n",
    "print(texto[0])  # Imprime el primer caracter de la string\n",
    "print(texto[2:5])  # Imprime characteres, del 3 al 5\n",
    "print(texto[2:])  # Imprime characteres, del 3 al final\n"
   ]
  },
  {
   "source": [
    "#### Métodos de cadena\n",
    "\n",
    "Python tiene un conjunto de métodos integrados que puede usar en cadenas.\n",
    "\n",
    "strip(): elimina cualquier espacio en blanco del principio o del final:\n"
   ],
   "cell_type": "markdown",
   "metadata": {}
  },
  {
   "cell_type": "code",
   "execution_count": 17,
   "metadata": {
    "tags": []
   },
   "outputs": [
    {
     "output_type": "stream",
     "name": "stdout",
     "text": "Hola, Mundo!\n"
    }
   ],
   "source": [
    "a = \" Hola, Mundo! \"\n",
    "print(a.strip()) # returns \"Hello, World!\" "
   ]
  },
  {
   "source": [
    "upper() / lower() devuelve la cadena en mayúsculas / minúsculas:\n"
   ],
   "cell_type": "markdown",
   "metadata": {}
  },
  {
   "cell_type": "code",
   "execution_count": 18,
   "metadata": {
    "tags": []
   },
   "outputs": [
    {
     "output_type": "stream",
     "name": "stdout",
     "text": "HOLA, MUNDO!\n"
    }
   ],
   "source": [
    "a = \"Hola, Mundo!\"\n",
    "print(a.upper())"
   ]
  },
  {
   "cell_type": "code",
   "execution_count": 19,
   "metadata": {},
   "outputs": [
    {
     "output_type": "error",
     "ename": "SyntaxError",
     "evalue": "invalid syntax (<ipython-input-19-cde82870727f>, line 1)",
     "traceback": [
      "\u001b[0;36m  File \u001b[0;32m\"<ipython-input-19-cde82870727f>\"\u001b[0;36m, line \u001b[0;32m1\u001b[0m\n\u001b[0;31m    replace(): reemplaza una cadena con otra cadena:\u001b[0m\n\u001b[0m                           ^\u001b[0m\n\u001b[0;31mSyntaxError\u001b[0m\u001b[0;31m:\u001b[0m invalid syntax\n"
     ]
    }
   ],
   "source": [
    "replace(): reemplaza una cadena con otra cadena:"
   ]
  },
  {
   "cell_type": "code",
   "execution_count": 20,
   "metadata": {
    "tags": []
   },
   "outputs": [
    {
     "output_type": "stream",
     "name": "stdout",
     "text": "Jola, Mundo!\n"
    }
   ],
   "source": [
    "a = \"Hola, Mundo!\"\n",
    "print(a.replace(\"H\", \"J\"))"
   ]
  },
  {
   "cell_type": "code",
   "execution_count": 21,
   "metadata": {},
   "outputs": [
    {
     "output_type": "error",
     "ename": "SyntaxError",
     "evalue": "invalid syntax (<ipython-input-21-2ba84f84ee74>, line 1)",
     "traceback": [
      "\u001b[0;36m  File \u001b[0;32m\"<ipython-input-21-2ba84f84ee74>\"\u001b[0;36m, line \u001b[0;32m1\u001b[0m\n\u001b[0;31m    split(): divide la cadena en subcadenas si encuentra instancias del separador\u001b[0m\n\u001b[0m                     ^\u001b[0m\n\u001b[0;31mSyntaxError\u001b[0m\u001b[0;31m:\u001b[0m invalid syntax\n"
     ]
    }
   ],
   "source": [
    "split(): divide la cadena en subcadenas si encuentra instancias del separador"
   ]
  },
  {
   "cell_type": "code",
   "execution_count": 22,
   "metadata": {
    "tags": []
   },
   "outputs": [
    {
     "output_type": "stream",
     "name": "stdout",
     "text": "['Hola', ' Mundo!']\n"
    }
   ],
   "source": [
    "a = \"Hola, Mundo!\"\n",
    "print(a.split(\",\"))"
   ]
  },
  {
   "source": [
    "## Colecciones de Python (arrays)\n",
    "\n",
    "Hay cuatro tipos de datos de recopilación en el lenguaje de programación Python:\n",
    "\n",
    "* Lista: es una colección ordenada y modificable. Permite miembros duplicados.\n",
    "* Tuple: es una colección ordenada e inmutable. Permite miembros duplicados.\n",
    "* Set: es una colección que no está ordenada ni indexada. No hay miembros duplicados.\n",
    "* Diccionario: es una colección desordenada, modificable e indexada."
   ],
   "cell_type": "markdown",
   "metadata": {}
  },
  {
   "cell_type": "markdown",
   "metadata": {},
   "source": [
    "### Listas\n",
    "\n",
    "La estructura de datos más básica en Python es la secuencia. A cada elemento de una secuencia se le asigna un número: su posición o índice. El primer índice es cero, el segundo índice es uno y así sucesivamente. Hay ciertas cosas que puede hacer con todos los tipos de secuencia. Estas operaciones incluyen indexar, dividir, agregar, multiplicar y verificar la pertenencia. Además, Python tiene funciones integradas para encontrar la longitud de una secuencia y para encontrar sus elementos más grandes y más pequeños.\n",
    "\n",
    "La lista es el tipo de datos más versátil disponible en Python, que se puede escribir como una lista de valores (elementos) separados por comas entre corchetes. Lo importante de una lista es que los elementos de una lista no necesitan ser del mismo tipo.\n",
    "\n",
    "#### Creando una Lista"
   ]
  },
  {
   "cell_type": "code",
   "execution_count": 23,
   "metadata": {
    "tags": []
   },
   "outputs": [],
   "source": [
    "lista = ['madera', \"piedra\", \"bruja\", \"pato\", 0.10, 1 ]\n",
    "listita = ['madera', 'pato']\n"
   ]
  },
  {
   "cell_type": "code",
   "execution_count": 24,
   "metadata": {},
   "outputs": [
    {
     "output_type": "execute_result",
     "data": {
      "text/plain": "['madera', 'piedra', 'bruja', 'pato', 0.1, 1]"
     },
     "metadata": {},
     "execution_count": 24
    }
   ],
   "source": [
    "# Lista completa\n",
    "lista"
   ]
  },
  {
   "source": [
    "#### Acceder a los elementos de una lista"
   ],
   "cell_type": "markdown",
   "metadata": {}
  },
  {
   "cell_type": "code",
   "execution_count": 25,
   "metadata": {},
   "outputs": [
    {
     "output_type": "execute_result",
     "data": {
      "text/plain": "'madera'"
     },
     "metadata": {},
     "execution_count": 25
    }
   ],
   "source": [
    " # Extrae el primer elemento\n",
    "lista[0]"
   ]
  },
  {
   "cell_type": "code",
   "execution_count": 26,
   "metadata": {},
   "outputs": [
    {
     "output_type": "execute_result",
     "data": {
      "text/plain": "['piedra', 'bruja']"
     },
     "metadata": {},
     "execution_count": 26
    }
   ],
   "source": [
    "# Extrae los elementos 2 y 3\n",
    "lista[1:3]"
   ]
  },
  {
   "cell_type": "code",
   "execution_count": 27,
   "metadata": {},
   "outputs": [
    {
     "output_type": "execute_result",
     "data": {
      "text/plain": "['bruja', 'pato', 0.1, 1]"
     },
     "metadata": {},
     "execution_count": 27
    }
   ],
   "source": [
    "# Extrae los elementos desde el 3 en adelante\n",
    "lista[2:]"
   ]
  },
  {
   "source": [
    "#### Modificar elemento de una lista"
   ],
   "cell_type": "markdown",
   "metadata": {}
  },
  {
   "cell_type": "code",
   "execution_count": 28,
   "metadata": {},
   "outputs": [
    {
     "output_type": "execute_result",
     "data": {
      "text/plain": "['flota', 'piedra', 'bruja', 'pato', 0.1, 1]"
     },
     "metadata": {},
     "execution_count": 28
    }
   ],
   "source": [
    "# Modifica el primer valor de la lista\n",
    "lista[0] = 'flota'\n",
    "lista"
   ]
  },
  {
   "source": [
    "#### Remover un elemento de una lista"
   ],
   "cell_type": "markdown",
   "metadata": {}
  },
  {
   "cell_type": "code",
   "execution_count": 29,
   "metadata": {},
   "outputs": [
    {
     "output_type": "execute_result",
     "data": {
      "text/plain": "['flota', 'piedra', 'bruja', 'pato', 0.1, 1]"
     },
     "metadata": {},
     "execution_count": 29
    }
   ],
   "source": [
    "lista"
   ]
  },
  {
   "cell_type": "code",
   "execution_count": 30,
   "metadata": {},
   "outputs": [
    {
     "output_type": "execute_result",
     "data": {
      "text/plain": "['flota', 'piedra', 'bruja', 'pato', 0.1]"
     },
     "metadata": {},
     "execution_count": 30
    }
   ],
   "source": [
    "# Modifica in situ a la lista\n",
    "del lista[5]\n",
    "lista"
   ]
  },
  {
   "source": [
    "#### Operaciones con Listas\n",
    "\n",
    "Longitud de la lista"
   ],
   "cell_type": "markdown",
   "metadata": {}
  },
  {
   "cell_type": "code",
   "execution_count": 31,
   "metadata": {},
   "outputs": [
    {
     "output_type": "execute_result",
     "data": {
      "text/plain": "5"
     },
     "metadata": {},
     "execution_count": 31
    }
   ],
   "source": [
    "len(lista)"
   ]
  },
  {
   "source": [
    "Concatenar listas"
   ],
   "cell_type": "markdown",
   "metadata": {}
  },
  {
   "cell_type": "code",
   "execution_count": 32,
   "metadata": {},
   "outputs": [
    {
     "output_type": "execute_result",
     "data": {
      "text/plain": "['flota', 'piedra', 'bruja', 'pato', 0.1, 'madera', 'pato']"
     },
     "metadata": {},
     "execution_count": 32
    }
   ],
   "source": [
    "lista + listita"
   ]
  },
  {
   "source": [
    "Multiplicar la lista (lista * n)"
   ],
   "cell_type": "markdown",
   "metadata": {}
  },
  {
   "cell_type": "code",
   "execution_count": 33,
   "metadata": {},
   "outputs": [
    {
     "output_type": "execute_result",
     "data": {
      "text/plain": "['madera', 'pato', 'madera', 'pato']"
     },
     "metadata": {},
     "execution_count": 33
    }
   ],
   "source": [
    "listita * 2"
   ]
  },
  {
   "source": [
    "#### Métodos para las Lista:\n",
    "\n",
    "Python incluye los siguientes métodos para las lista:"
   ],
   "cell_type": "markdown",
   "metadata": {}
  },
  {
   "cell_type": "code",
   "execution_count": 34,
   "metadata": {},
   "outputs": [],
   "source": [
    "lista = [1 ,\"a\", 3]"
   ]
  },
  {
   "source": [
    "list.append (obj): Agrega el objeto obj a la lista"
   ],
   "cell_type": "markdown",
   "metadata": {}
  },
  {
   "cell_type": "code",
   "execution_count": 35,
   "metadata": {},
   "outputs": [
    {
     "output_type": "execute_result",
     "data": {
      "text/plain": "[1, 'a', 3, 1]"
     },
     "metadata": {},
     "execution_count": 35
    }
   ],
   "source": [
    "lista.append(1)\n",
    "lista"
   ]
  },
  {
   "source": [
    "\n",
    "list.count (obj): Devuelve el recuento de cuántas veces aparece obj en la lista"
   ],
   "cell_type": "markdown",
   "metadata": {}
  },
  {
   "cell_type": "code",
   "execution_count": 36,
   "metadata": {},
   "outputs": [
    {
     "output_type": "execute_result",
     "data": {
      "text/plain": "2"
     },
     "metadata": {},
     "execution_count": 36
    }
   ],
   "source": [
    "lista.count(1)"
   ]
  },
  {
   "source": [
    "list.extend (seq): Agrega el contenido de seq a la lista"
   ],
   "cell_type": "markdown",
   "metadata": {}
  },
  {
   "cell_type": "code",
   "execution_count": 37,
   "metadata": {},
   "outputs": [
    {
     "output_type": "execute_result",
     "data": {
      "text/plain": "[1, 'a', 3, 1, 'a', 'b']"
     },
     "metadata": {},
     "execution_count": 37
    }
   ],
   "source": [
    "lista_2 = [\"a\",\"b\"]\n",
    "lista.extend(lista_2)\n",
    "lista"
   ]
  },
  {
   "source": [
    "list.index (obj): Devuelve el índice más bajo en la lista que aparece obj"
   ],
   "cell_type": "markdown",
   "metadata": {}
  },
  {
   "cell_type": "code",
   "execution_count": 38,
   "metadata": {},
   "outputs": [
    {
     "output_type": "execute_result",
     "data": {
      "text/plain": "0"
     },
     "metadata": {},
     "execution_count": 38
    }
   ],
   "source": [
    "lista.index(1)"
   ]
  },
  {
   "source": [
    "list.insert (índice, obj): Inserta el objeto obj en la lista en el índice de desplazamiento"
   ],
   "cell_type": "markdown",
   "metadata": {}
  },
  {
   "cell_type": "code",
   "execution_count": 39,
   "metadata": {},
   "outputs": [
    {
     "output_type": "execute_result",
     "data": {
      "text/plain": "[1, 'a', 3, 1, 'a', 'b']"
     },
     "metadata": {},
     "execution_count": 39
    }
   ],
   "source": [
    "lista"
   ]
  },
  {
   "cell_type": "code",
   "execution_count": 40,
   "metadata": {},
   "outputs": [
    {
     "output_type": "execute_result",
     "data": {
      "text/plain": "[1, 'a', 'z', 3, 1, 'a', 'b']"
     },
     "metadata": {},
     "execution_count": 40
    }
   ],
   "source": [
    "lista.insert(2,\"z\")\n",
    "lista"
   ]
  },
  {
   "source": [
    "list.pop (obj = list \\[-1\\]): Elimina y devuelve el último objeto u obj de la lista"
   ],
   "cell_type": "markdown",
   "metadata": {}
  },
  {
   "cell_type": "code",
   "execution_count": 41,
   "metadata": {},
   "outputs": [
    {
     "output_type": "execute_result",
     "data": {
      "text/plain": "'b'"
     },
     "metadata": {},
     "execution_count": 41
    }
   ],
   "source": [
    "aux = lista.pop()\n",
    "aux"
   ]
  },
  {
   "cell_type": "code",
   "execution_count": 42,
   "metadata": {},
   "outputs": [
    {
     "output_type": "execute_result",
     "data": {
      "text/plain": "[1, 'a', 'z', 3, 1, 'a']"
     },
     "metadata": {},
     "execution_count": 42
    }
   ],
   "source": [
    "lista"
   ]
  },
  {
   "cell_type": "code",
   "execution_count": 43,
   "metadata": {},
   "outputs": [
    {
     "output_type": "execute_result",
     "data": {
      "text/plain": "'z'"
     },
     "metadata": {},
     "execution_count": 43
    }
   ],
   "source": [
    "aux = lista.pop(2)\n",
    "aux"
   ]
  },
  {
   "cell_type": "code",
   "execution_count": 44,
   "metadata": {},
   "outputs": [
    {
     "output_type": "execute_result",
     "data": {
      "text/plain": "[1, 'a', 3, 1, 'a']"
     },
     "metadata": {},
     "execution_count": 44
    }
   ],
   "source": [
    "lista"
   ]
  },
  {
   "source": [
    "list.remove (obj): Elimina el objeto obj de la lista"
   ],
   "cell_type": "markdown",
   "metadata": {}
  },
  {
   "cell_type": "code",
   "execution_count": 45,
   "metadata": {},
   "outputs": [
    {
     "output_type": "execute_result",
     "data": {
      "text/plain": "['a', 3, 1, 'a']"
     },
     "metadata": {},
     "execution_count": 45
    }
   ],
   "source": [
    "aux = lista.remove(1)\n",
    "lista"
   ]
  },
  {
   "source": [
    "list.reverse (): Invierte los objetos de la lista en su lugar"
   ],
   "cell_type": "markdown",
   "metadata": {}
  },
  {
   "cell_type": "code",
   "execution_count": 46,
   "metadata": {},
   "outputs": [
    {
     "output_type": "execute_result",
     "data": {
      "text/plain": "['a', 1, 3, 'a']"
     },
     "metadata": {},
     "execution_count": 46
    }
   ],
   "source": [
    "lista.reverse()\n",
    "lista"
   ]
  },
  {
   "source": [
    "list.sort ([func]): Ordena los objetos de la lista, use la función de comparación si se proporciona"
   ],
   "cell_type": "markdown",
   "metadata": {}
  },
  {
   "cell_type": "code",
   "execution_count": 47,
   "metadata": {},
   "outputs": [
    {
     "output_type": "execute_result",
     "data": {
      "text/plain": "[0, 1, 3, 4]"
     },
     "metadata": {},
     "execution_count": 47
    }
   ],
   "source": [
    "lista = [1,4,0,3]\n",
    "lista.sort()\n",
    "lista"
   ]
  },
  {
   "cell_type": "markdown",
   "metadata": {},
   "source": [
    "### Tuplas\n",
    "\n",
    "Una tupla es una colección de objetos ordenados e inmutables. Las tuplas son secuencias, como listas. La principal diferencia entre las tuplas y las listas es que las tuplas no se pueden cambiar a diferencia de las listas. Las tuplas usan paréntesis, mientras que las listas usan corchetes."
   ]
  },
  {
   "cell_type": "code",
   "execution_count": 48,
   "metadata": {
    "tags": []
   },
   "outputs": [
    {
     "output_type": "stream",
     "name": "stdout",
     "text": "('madera', 'piedra', 'bruja', 'pato', 0.1)\nmadera\n('piedra', 'bruja')\n('bruja', 'pato', 0.1)\n('madera', 'pato', 'madera', 'pato')\n('madera', 'piedra', 'bruja', 'pato', 0.1, 'madera', 'pato')\n"
    }
   ],
   "source": [
    "tupla = ('madera', \"piedra\", \"bruja\", \"pato\", 0.10)\n",
    "tuplaita = ('madera', 'pato')\n",
    "\n",
    "print(tupla)  # Imprime complete list\n",
    "print(tupla[0])  # Imprime el primer lemento\n",
    "print(tupla[1:3])  # Imprime elementos\n",
    "print(tupla[2:])  # Imprime elementos\n",
    "print(tuplaita * 2)  # Imprime lista 2 veces\n",
    "print(tupla + tuplaita)  # Imprime la lista concatenateda"
   ]
  },
  {
   "source": [
    "#### Inmutabilidad"
   ],
   "cell_type": "markdown",
   "metadata": {}
  },
  {
   "cell_type": "code",
   "execution_count": 49,
   "metadata": {},
   "outputs": [
    {
     "output_type": "error",
     "ename": "TypeError",
     "evalue": "'tuple' object does not support item assignment",
     "traceback": [
      "\u001b[0;31m---------------------------------------------------------------------------\u001b[0m",
      "\u001b[0;31mTypeError\u001b[0m                                 Traceback (most recent call last)",
      "\u001b[0;32m<ipython-input-49-be56f0050120>\u001b[0m in \u001b[0;36m<module>\u001b[0;34m\u001b[0m\n\u001b[0;32m----> 1\u001b[0;31m \u001b[0mtupla\u001b[0m\u001b[0;34m[\u001b[0m\u001b[0;36m0\u001b[0m\u001b[0;34m]\u001b[0m \u001b[0;34m=\u001b[0m \u001b[0;34m'flota'\u001b[0m \u001b[0;31m# Error\u001b[0m\u001b[0;34m\u001b[0m\u001b[0;34m\u001b[0m\u001b[0m\n\u001b[0m",
      "\u001b[0;31mTypeError\u001b[0m: 'tuple' object does not support item assignment"
     ]
    }
   ],
   "source": [
    "tupla[0] = 'flota' # Error\n"
   ]
  },
  {
   "cell_type": "markdown",
   "metadata": {},
   "source": [
    "### Diccionarios\n",
    "\n",
    "Cada clave está separada de su valor por dos puntos (:), los elementos están separados por comas y todo está encerrado entre llaves. Un diccionario vacío sin elementos se escribe con solo dos llaves: {}.\n",
    "\n",
    "Las claves son únicas dentro de un diccionario, mientras que los valores pueden no serlo. Los valores de un diccionario pueden ser de cualquier tipo, pero las claves deben ser de un tipo de datos inmutable, como cadenas, números o tuplas.\n",
    "\n",
    "#### Creación\n",
    "\n",
    "* Método 1: Explícito"
   ]
  },
  {
   "cell_type": "code",
   "execution_count": 50,
   "metadata": {},
   "outputs": [
    {
     "output_type": "execute_result",
     "data": {
      "text/plain": "{'nombre': 'juan', 'codigo': 6734, 'depto': 'ventas'}"
     },
     "metadata": {},
     "execution_count": 50
    }
   ],
   "source": [
    "#{clave: valor}\n",
    "diccionario = {'nombre': 'juan', 'codigo': 6734, 'depto': 'ventas'}\n",
    "diccionario\n"
   ]
  },
  {
   "source": [
    "* Método 2: A partir de un diccionario vacío\n"
   ],
   "cell_type": "markdown",
   "metadata": {}
  },
  {
   "cell_type": "code",
   "execution_count": 51,
   "metadata": {},
   "outputs": [
    {
     "output_type": "execute_result",
     "data": {
      "text/plain": "{'uno': 1, 'dos': 2}"
     },
     "metadata": {},
     "execution_count": 51
    }
   ],
   "source": [
    "diccionario = {}\n",
    "diccionario['uno'] = 1\n",
    "diccionario['dos'] = 2\n",
    "diccionario"
   ]
  },
  {
   "source": [
    "* Método 3: Usando la función zip()"
   ],
   "cell_type": "markdown",
   "metadata": {}
  },
  {
   "cell_type": "code",
   "execution_count": 52,
   "metadata": {},
   "outputs": [
    {
     "output_type": "execute_result",
     "data": {
      "text/plain": "{'uno': 1, 'dos': 2, 'tres': 3}"
     },
     "metadata": {},
     "execution_count": 52
    }
   ],
   "source": [
    "keys = ['uno', 'dos', 'tres']\n",
    "values = [1, 2, 3]\n",
    "diccionario = dict(zip(keys, values))\n",
    "diccionario"
   ]
  },
  {
   "source": [
    "__*Propiedades de las claves del diccionario*__\n",
    "\n",
    "Los valores del diccionario no tienen restricciones. Pueden ser cualquier objeto de Python arbitrario, ya sea objetos estándar u objetos definidos por el usuario. Sin embargo, no ocurre lo mismo con las claves. Hay dos puntos importantes para recordar acerca de las claves del diccionario:\n",
    "\n",
    "(a) No se permite más de una entrada por clave. Esto significa que no se permiten claves duplicadas. Cuando se encuentran claves duplicadas durante la asignación, la última asignación gana. Por ejemplo"
   ],
   "cell_type": "markdown",
   "metadata": {}
  },
  {
   "cell_type": "code",
   "execution_count": 53,
   "metadata": {
    "tags": []
   },
   "outputs": [
    {
     "output_type": "execute_result",
     "data": {
      "text/plain": "1"
     },
     "metadata": {},
     "execution_count": 53
    }
   ],
   "source": [
    "diccionario_err = {'Uno': '1', 'Dos': 2, 'Uno': 1}\n",
    "diccionario_err['Uno']"
   ]
  },
  {
   "cell_type": "code",
   "execution_count": 54,
   "metadata": {},
   "outputs": [
    {
     "output_type": "execute_result",
     "data": {
      "text/plain": "{'Uno': 1, 'Dos': 2}"
     },
     "metadata": {},
     "execution_count": 54
    }
   ],
   "source": [
    "diccionario_err"
   ]
  },
  {
   "source": [
    "\n",
    "(b) Las claves deben ser inmutables. Esto significa que puede usar cadenas, números o tuplas como claves de diccionario, pero algo como \\['clave'\\] no está permitido. A continuación se muestra un ejemplo simple:"
   ],
   "cell_type": "markdown",
   "metadata": {}
  },
  {
   "cell_type": "code",
   "execution_count": 55,
   "metadata": {},
   "outputs": [
    {
     "output_type": "error",
     "ename": "TypeError",
     "evalue": "unhashable type: 'list'",
     "traceback": [
      "\u001b[0;31m---------------------------------------------------------------------------\u001b[0m",
      "\u001b[0;31mTypeError\u001b[0m                                 Traceback (most recent call last)",
      "\u001b[0;32m<ipython-input-55-dfd3621702c4>\u001b[0m in \u001b[0;36m<module>\u001b[0;34m\u001b[0m\n\u001b[0;32m----> 1\u001b[0;31m \u001b[0mdiccionario_err\u001b[0m \u001b[0;34m=\u001b[0m \u001b[0;34m{\u001b[0m\u001b[0;34m[\u001b[0m\u001b[0;34m'Uno'\u001b[0m\u001b[0;34m]\u001b[0m\u001b[0;34m:\u001b[0m \u001b[0;34m'1'\u001b[0m\u001b[0;34m,\u001b[0m \u001b[0;34m'Dos'\u001b[0m\u001b[0;34m:\u001b[0m \u001b[0;36m2\u001b[0m\u001b[0;34m,\u001b[0m \u001b[0;34m'Tres'\u001b[0m\u001b[0;34m:\u001b[0m \u001b[0;36m3\u001b[0m\u001b[0;34m}\u001b[0m\u001b[0;34m\u001b[0m\u001b[0;34m\u001b[0m\u001b[0m\n\u001b[0m",
      "\u001b[0;31mTypeError\u001b[0m: unhashable type: 'list'"
     ]
    }
   ],
   "source": [
    "diccionario_err = {['Uno']: '1', 'Dos': 2, 'Tres': 3}"
   ]
  },
  {
   "source": [
    "#### Acceder a los valores y claves de un diccionario"
   ],
   "cell_type": "markdown",
   "metadata": {}
  },
  {
   "source": [
    "Obtener las claves\n"
   ],
   "cell_type": "markdown",
   "metadata": {}
  },
  {
   "cell_type": "code",
   "execution_count": 56,
   "metadata": {
    "tags": []
   },
   "outputs": [
    {
     "output_type": "execute_result",
     "data": {
      "text/plain": "dict_keys(['uno', 'dos', 'tres'])"
     },
     "metadata": {},
     "execution_count": 56
    }
   ],
   "source": [
    "diccionario.keys()"
   ]
  },
  {
   "source": [
    "Obtener los valores"
   ],
   "cell_type": "markdown",
   "metadata": {}
  },
  {
   "cell_type": "code",
   "execution_count": 57,
   "metadata": {},
   "outputs": [
    {
     "output_type": "execute_result",
     "data": {
      "text/plain": "dict_values([1, 2, 3])"
     },
     "metadata": {},
     "execution_count": 57
    }
   ],
   "source": [
    "diccionario.values()"
   ]
  },
  {
   "source": [
    "Obtener un valor"
   ],
   "cell_type": "markdown",
   "metadata": {}
  },
  {
   "source": [
    "Los valores de un diccionarios no se acceden por posición, sino por clave"
   ],
   "cell_type": "markdown",
   "metadata": {}
  },
  {
   "cell_type": "code",
   "execution_count": 58,
   "metadata": {},
   "outputs": [
    {
     "output_type": "error",
     "ename": "KeyError",
     "evalue": "0",
     "traceback": [
      "\u001b[0;31m---------------------------------------------------------------------------\u001b[0m",
      "\u001b[0;31mKeyError\u001b[0m                                  Traceback (most recent call last)",
      "\u001b[0;32m<ipython-input-58-d7a7296f2d34>\u001b[0m in \u001b[0;36m<module>\u001b[0;34m\u001b[0m\n\u001b[0;32m----> 1\u001b[0;31m \u001b[0mdiccionario\u001b[0m\u001b[0;34m[\u001b[0m\u001b[0;36m0\u001b[0m\u001b[0;34m]\u001b[0m \u001b[0;31m# ERROR!!!\u001b[0m\u001b[0;34m\u001b[0m\u001b[0;34m\u001b[0m\u001b[0m\n\u001b[0m",
      "\u001b[0;31mKeyError\u001b[0m: 0"
     ]
    }
   ],
   "source": [
    "diccionario[0] # ERROR!!!"
   ]
  },
  {
   "cell_type": "code",
   "execution_count": 59,
   "metadata": {},
   "outputs": [
    {
     "output_type": "execute_result",
     "data": {
      "text/plain": "1"
     },
     "metadata": {},
     "execution_count": 59
    }
   ],
   "source": [
    "diccionario['uno']"
   ]
  },
  {
   "source": [
    "#### Modificar elemento de un diccionario"
   ],
   "cell_type": "markdown",
   "metadata": {}
  },
  {
   "cell_type": "code",
   "execution_count": 60,
   "metadata": {},
   "outputs": [
    {
     "output_type": "execute_result",
     "data": {
      "text/plain": "{'uno': 0, 'dos': 2, 'tres': 3}"
     },
     "metadata": {},
     "execution_count": 60
    }
   ],
   "source": [
    "diccionario['uno'] = 0\n",
    "diccionario"
   ]
  },
  {
   "source": [
    "#### Eliminar elemento de un diccionario"
   ],
   "cell_type": "markdown",
   "metadata": {}
  },
  {
   "cell_type": "code",
   "execution_count": 61,
   "metadata": {},
   "outputs": [
    {
     "output_type": "execute_result",
     "data": {
      "text/plain": "{'dos': 2, 'tres': 3}"
     },
     "metadata": {},
     "execution_count": 61
    }
   ],
   "source": [
    "del diccionario['uno']\n",
    "diccionario"
   ]
  },
  {
   "source": [
    "#### Métodos de diccionario\n",
    "\n",
    "dict.clear (): Elimina todos los elementos del diccionario dict\n",
    "\n",
    "dict.copy (): Devuelve una copia superficial del diccionario dict\n",
    "\n",
    "dict.fromkeys (): Cree un nuevo diccionario con claves de seq y valores establecidos en value .\n",
    "\n",
    "dict.get (clave, predeterminado = Ninguno): Para clave clave, devuelve valor o predeterminado si la clave no está en el diccionario\n",
    "\n",
    "dict.has_key (clave): Eliminado, utilice en su lugar en funcionamiento.\n",
    "\n",
    "dict.items (): Devuelve una lista de pares de tuplas de dict (clave, valor)\n",
    "\n",
    "dict.keys (): Devuelve la lista de claves del diccionario dict\n",
    "\n",
    "dict.setdefault (clave, predeterminado = Ninguno): Similar a get (), pero establecerá dict \\[clave\\] = predeterminado si la clave no está ya en dict\n",
    "\n",
    "dict.update (dict2): Agrega pares clave-valor del diccionario dict2 a dict\n",
    "\n",
    "dict.values ​​(): Devuelve la lista de valores de diccionario dic"
   ],
   "cell_type": "markdown",
   "metadata": {}
  },
  {
   "cell_type": "markdown",
   "metadata": {},
   "source": [
    "## Operadores\n",
    "\n",
    "### Tipos de Operadores\n",
    "\n",
    "* Arithmeticos\n",
    "* Comparación (Relacional)\n",
    "* Assignación\n",
    "* Lógicos\n",
    "* Bitwise\n",
    "* Membresía\n",
    "* Identidad"
   ]
  },
  {
   "cell_type": "markdown",
   "metadata": {},
   "source": [
    "### Arithmeticos"
   ]
  },
  {
   "cell_type": "code",
   "execution_count": 62,
   "metadata": {
    "tags": []
   },
   "outputs": [
    {
     "output_type": "stream",
     "name": "stdout",
     "text": "31\n11\n210\n2.1\n1\n8\n2\n"
    }
   ],
   "source": [
    "a = 21\n",
    "b = 10\n",
    "c = 0\n",
    "\n",
    "c = a + b\n",
    "print(c)\n",
    "\n",
    "c = a - b\n",
    "print(c)\n",
    "\n",
    "c = a * b\n",
    "print(c)\n",
    "\n",
    "c = a / b\n",
    "print(c)\n",
    "\n",
    "c = a % b\n",
    "print(c)\n",
    "\n",
    "a = 2\n",
    "b = 3\n",
    "c = a**b\n",
    "print(c)\n",
    "\n",
    "a = 10\n",
    "b = 5\n",
    "c = a // b\n",
    "print(c)\n"
   ]
  },
  {
   "cell_type": "markdown",
   "metadata": {},
   "source": [
    "### Comparación"
   ]
  },
  {
   "cell_type": "code",
   "execution_count": 63,
   "metadata": {
    "tags": []
   },
   "outputs": [
    {
     "output_type": "stream",
     "name": "stdout",
     "text": "False\nTrue\nFalse\nTrue\n[10, 21]\nTrue\nTrue\n"
    }
   ],
   "source": [
    "a = 21\n",
    "b = 10\n",
    "\n",
    "print(a == b)\n",
    "\n",
    "print(a != b)\n",
    "\n",
    "print(a < b)\n",
    "\n",
    "print(a > b)\n",
    "\n",
    "a, b = b, a  # a y b son swappados\n",
    "print([a, b])\n",
    "\n",
    "print(a <= b)\n",
    "\n",
    "print(b >= a)\n"
   ]
  },
  {
   "cell_type": "markdown",
   "metadata": {},
   "source": [
    "### Assignación"
   ]
  },
  {
   "cell_type": "code",
   "execution_count": 64,
   "metadata": {
    "tags": []
   },
   "outputs": [
    {
     "output_type": "stream",
     "name": "stdout",
     "text": "31\n52\n1092\n52.0\n2\n2097152\n99864\n"
    }
   ],
   "source": [
    "a = 21\n",
    "b = 10\n",
    "c = 0\n",
    "\n",
    "c = a + b\n",
    "print(c)\n",
    "\n",
    "c += a\n",
    "print(c)\n",
    "\n",
    "c *= a\n",
    "print(c)\n",
    "\n",
    "c /= a\n",
    "print(c)\n",
    "\n",
    "c = 2\n",
    "c %= a\n",
    "print(c)\n",
    "\n",
    "c **= a\n",
    "print(c)\n",
    "\n",
    "c //= a\n",
    "print(c)\n"
   ]
  },
  {
   "cell_type": "markdown",
   "metadata": {},
   "source": [
    "### Lógicos\n",
    "\n",
    "and, or, not"
   ]
  },
  {
   "cell_type": "code",
   "execution_count": 65,
   "metadata": {},
   "outputs": [
    {
     "output_type": "execute_result",
     "data": {
      "text/plain": "False"
     },
     "metadata": {},
     "execution_count": 65
    }
   ],
   "source": [
    "True and False"
   ]
  },
  {
   "cell_type": "code",
   "execution_count": 66,
   "metadata": {},
   "outputs": [
    {
     "output_type": "execute_result",
     "data": {
      "text/plain": "False"
     },
     "metadata": {},
     "execution_count": 66
    }
   ],
   "source": [
    "True & False"
   ]
  },
  {
   "cell_type": "code",
   "execution_count": 67,
   "metadata": {},
   "outputs": [
    {
     "output_type": "execute_result",
     "data": {
      "text/plain": "True"
     },
     "metadata": {},
     "execution_count": 67
    }
   ],
   "source": [
    "True or False"
   ]
  },
  {
   "cell_type": "code",
   "execution_count": 68,
   "metadata": {},
   "outputs": [
    {
     "output_type": "execute_result",
     "data": {
      "text/plain": "False"
     },
     "metadata": {},
     "execution_count": 68
    }
   ],
   "source": [
    "not True"
   ]
  },
  {
   "cell_type": "code",
   "execution_count": 69,
   "metadata": {},
   "outputs": [
    {
     "output_type": "execute_result",
     "data": {
      "text/plain": "[False, False, False]"
     },
     "metadata": {},
     "execution_count": 69
    }
   ],
   "source": [
    "[True, True, True] and [False, False, False]"
   ]
  },
  {
   "cell_type": "code",
   "execution_count": 70,
   "metadata": {},
   "outputs": [
    {
     "output_type": "error",
     "ename": "TypeError",
     "evalue": "unsupported operand type(s) for &: 'list' and 'list'",
     "traceback": [
      "\u001b[0;31m---------------------------------------------------------------------------\u001b[0m",
      "\u001b[0;31mTypeError\u001b[0m                                 Traceback (most recent call last)",
      "\u001b[0;32m<ipython-input-70-d7492fe28613>\u001b[0m in \u001b[0;36m<module>\u001b[0;34m\u001b[0m\n\u001b[0;32m----> 1\u001b[0;31m \u001b[0;34m[\u001b[0m\u001b[0;32mTrue\u001b[0m\u001b[0;34m,\u001b[0m \u001b[0;32mTrue\u001b[0m\u001b[0;34m,\u001b[0m \u001b[0;32mTrue\u001b[0m\u001b[0;34m]\u001b[0m \u001b[0;34m&\u001b[0m \u001b[0;34m[\u001b[0m\u001b[0;32mFalse\u001b[0m\u001b[0;34m,\u001b[0m \u001b[0;32mFalse\u001b[0m\u001b[0;34m,\u001b[0m \u001b[0;32mFalse\u001b[0m\u001b[0;34m]\u001b[0m\u001b[0;34m\u001b[0m\u001b[0;34m\u001b[0m\u001b[0m\n\u001b[0m",
      "\u001b[0;31mTypeError\u001b[0m: unsupported operand type(s) for &: 'list' and 'list'"
     ]
    }
   ],
   "source": [
    "[True, True, True] & [False, False, False]"
   ]
  },
  {
   "cell_type": "markdown",
   "metadata": {},
   "source": [
    "> El operador '**&**' realiza un \"bitwise and\""
   ]
  },
  {
   "cell_type": "code",
   "execution_count": 71,
   "metadata": {},
   "outputs": [
    {
     "output_type": "execute_result",
     "data": {
      "text/plain": "[8, True]"
     },
     "metadata": {},
     "execution_count": 71
    }
   ],
   "source": [
    "[10 & 13 , True & True] "
   ]
  },
  {
   "cell_type": "markdown",
   "metadata": {},
   "source": [
    "> El operador '**and**' en python no puede ser anulado ni modificado en su comportamiento, mientras que el operador '**&**' si, por lo cual es la elección de numpy y pandas.\n"
   ]
  },
  {
   "cell_type": "markdown",
   "metadata": {},
   "source": [
    "### Membresía\n",
    "\n",
    "in, notin"
   ]
  },
  {
   "cell_type": "code",
   "execution_count": 72,
   "metadata": {},
   "outputs": [
    {
     "output_type": "execute_result",
     "data": {
      "text/plain": "True"
     },
     "metadata": {},
     "execution_count": 72
    }
   ],
   "source": [
    "1 in [1,2]"
   ]
  },
  {
   "cell_type": "code",
   "execution_count": 73,
   "metadata": {},
   "outputs": [
    {
     "output_type": "execute_result",
     "data": {
      "text/plain": "True"
     },
     "metadata": {},
     "execution_count": 73
    }
   ],
   "source": [
    "[1,2] in [[1,2],[2,3],[3,4]]"
   ]
  },
  {
   "cell_type": "code",
   "execution_count": 74,
   "metadata": {},
   "outputs": [
    {
     "output_type": "execute_result",
     "data": {
      "text/plain": "False"
     },
     "metadata": {},
     "execution_count": 74
    }
   ],
   "source": [
    "[[1,2],[2,3],[3,4]] in [1,2]"
   ]
  },
  {
   "source": [
    "## Fuentes\n",
    "\n",
    "* https://www.tutorialspoint.com/python3/\n",
    "* https://www.w3schools.com/python\n",
    "* https://www.python-course.eu/\n"
   ],
   "cell_type": "markdown",
   "metadata": {}
  }
 ],
 "metadata": {
  "file_extension": ".py",
  "kernelspec": {
   "display_name": "Python 3",
   "language": "python",
   "name": "python3"
  },
  "language_info": {
   "codemirror_mode": {
    "name": "ipython",
    "version": 3
   },
   "file_extension": ".py",
   "mimetype": "text/x-python",
   "name": "python",
   "nbconvert_exporter": "python",
   "pygments_lexer": "ipython3",
   "version": "3.6.9-final"
  },
  "latex_envs": {
   "LaTeX_envs_menu_present": true,
   "autoclose": true,
   "autocomplete": true,
   "bibliofile": "biblio.bib",
   "cite_by": "apalike",
   "current_citInitial": 1,
   "eqLabelWithNumbers": true,
   "eqNumInitial": 1,
   "hotkeys": {
    "equation": "Ctrl-E",
    "itemize": "Ctrl-I"
   },
   "labels_anchors": false,
   "latex_user_defs": false,
   "report_style_numbering": false,
   "user_envs_cfg": false
  },
  "mimetype": "text/x-python",
  "name": "python",
  "npconvert_exporter": "python",
  "pygments_lexer": "ipython3",
  "toc": {
   "base_numbering": 1,
   "nav_menu": {},
   "number_sections": false,
   "sideBar": true,
   "skip_h1_title": false,
   "title_cell": "Table of Contents",
   "title_sidebar": "Contents",
   "toc_cell": false,
   "toc_position": {},
   "toc_section_display": true,
   "toc_window_display": true
  },
  "version": 3
 },
 "nbformat": 4,
 "nbformat_minor": 2
}